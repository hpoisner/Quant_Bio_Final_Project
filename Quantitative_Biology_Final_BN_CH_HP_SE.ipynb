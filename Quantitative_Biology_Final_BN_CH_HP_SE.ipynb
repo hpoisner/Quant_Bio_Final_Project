{
 "cells": [
  {
   "cell_type": "code",
   "execution_count": 144,
   "id": "38a45755",
   "metadata": {},
   "outputs": [],
   "source": [
    "from pysb import *"
   ]
  },
  {
   "cell_type": "markdown",
   "id": "71bcd13a",
   "metadata": {},
   "source": [
    "Defining the Model"
   ]
  },
  {
   "cell_type": "code",
   "execution_count": 145,
   "id": "9ab19616",
   "metadata": {},
   "outputs": [
    {
     "data": {
      "text/plain": [
       "<Model '_interactive_' (monomers: 0, rules: 0, parameters: 0, expressions: 0, compartments: 0) at 0x7fdf11e1dbb0>"
      ]
     },
     "execution_count": 145,
     "metadata": {},
     "output_type": "execute_result"
    }
   ],
   "source": [
    "Model()"
   ]
  },
  {
   "cell_type": "markdown",
   "id": "1dc66a23",
   "metadata": {},
   "source": [
    "Defining the Monomers"
   ]
  },
  {
   "cell_type": "code",
   "execution_count": 146,
   "id": "19020493",
   "metadata": {},
   "outputs": [
    {
     "data": {
      "text/plain": [
       "Monomer('cSmac', ['b'])"
      ]
     },
     "execution_count": 146,
     "metadata": {},
     "output_type": "execute_result"
    }
   ],
   "source": [
    "## Example Monomoer Monomer('Name', ['site1', 'site2'], {'site1': ['state1', 'state2']})\n",
    "Monomer('Trail', ['b'])\n",
    "Monomer('pR', ['b'])\n",
    "Monomer('DISC', ['b'])\n",
    "Monomer('Flip', ['b'])\n",
    "Monomer('pC8', ['b'])\n",
    "Monomer('C8', ['b'])\n",
    "Monomer('BAR', ['b'])\n",
    "Monomer('pC3', ['b'])\n",
    "Monomer('C3', ['b'])\n",
    "Monomer('pC6', ['b'])\n",
    "Monomer('C6', ['b'])\n",
    "Monomer('XIAP', ['b'])\n",
    "Monomer('C3_U', ['b'])\n",
    "Monomer('PARP', ['b'])\n",
    "Monomer('cPARP', ['b'])\n",
    "Monomer('Bid', ['b'])\n",
    "Monomer('tBid', ['b'])\n",
    "Monomer('Bcl2c', ['b'])\n",
    "Monomer('Bax', ['b'])\n",
    "Monomer('aBax', ['b'])\n",
    "Monomer('mBax', ['b'])\n",
    "Monomer('Bcl2', ['b'])\n",
    "Monomer('Bax2', ['b'])\n",
    "Monomer('Bax4', ['b'])\n",
    "Monomer('Mito', ['b'])\n",
    "Monomer('AMito', ['b'])\n",
    "Monomer('mCytoC', ['b'])\n",
    "Monomer('ACytoC', ['b'])\n",
    "Monomer('mSmac', ['b'])\n",
    "Monomer('ASmac', ['b'])\n",
    "Monomer('cCytoC', ['b'])\n",
    "Monomer('Apaf', ['b'])\n",
    "Monomer('aApaf', ['b'])\n",
    "Monomer('pC9', ['b'])\n",
    "Monomer('Apop', ['b'])\n",
    "Monomer('cSmac', ['b'])"
   ]
  },
  {
   "cell_type": "markdown",
   "id": "465d520a",
   "metadata": {},
   "source": [
    "Defining the Parameters"
   ]
  },
  {
   "cell_type": "code",
   "execution_count": 147,
   "id": "e8ec8ecd",
   "metadata": {},
   "outputs": [
    {
     "data": {
      "text/latex": [
       "$\\displaystyle kc_{4}$"
      ],
      "text/plain": [
       "Parameter('kc4', 10.0)"
      ]
     },
     "execution_count": 147,
     "metadata": {},
     "output_type": "execute_result"
    }
   ],
   "source": [
    "## Example Parameter Parameter('Name', numericalValue)\n",
    "## Limited Reaction rates by type Kb, Kf, and Kc \n",
    "## Will use correct version for each reaction\n",
    "## KBs\n",
    "Parameter('kb1', 1e-3)\n",
    "Parameter('kb2', 1e-2)\n",
    "#KFs\n",
    "Parameter('kf1', 4e-7)\n",
    "Parameter('kf2', 1e-6)\n",
    "Parameter('kf3', 1e-7)\n",
    "Parameter('kf4', 3e-8)\n",
    "Parameter('kf5', 2e-6)\n",
    "Parameter('kf6', 1e-2)\n",
    "Parameter('kf7', 1.4286e-5)\n",
    "Parameter('kf8', 2.857e-5)\n",
    "Parameter('kf9', 5e-7)\n",
    "Parameter('kf10', 5e-8)\n",
    "Parameter(\"kf11\", 5e-9)\n",
    "Parameter('kf12', 7e-6)\n",
    "## KCs\n",
    "Parameter('kc1', 1e-5)\n",
    "Parameter('kc2', 1e0)\n",
    "Parameter('kc3', 1e-1)\n",
    "Parameter('kc4', 1e1)"
   ]
  },
  {
   "cell_type": "markdown",
   "id": "62ce711d",
   "metadata": {},
   "source": [
    "Defining the Observables"
   ]
  },
  {
   "cell_type": "code",
   "execution_count": 148,
   "id": "1dd6a0bc",
   "metadata": {},
   "outputs": [
    {
     "data": {
      "text/latex": [
       "$\\displaystyle capsase_{3}$"
      ],
      "text/plain": [
       "Observable('capsase_3', C3(b=None))"
      ]
     },
     "execution_count": 148,
     "metadata": {},
     "output_type": "execute_result"
    }
   ],
   "source": [
    "## Example Observable Observable('obsName', Species())\n",
    "##Observing Capsase 3\n",
    "Observable('capsase_3', C3(b=None))"
   ]
  },
  {
   "cell_type": "markdown",
   "id": "fa828da6",
   "metadata": {},
   "source": [
    "Defining the Initial Condidtions"
   ]
  },
  {
   "cell_type": "code",
   "execution_count": 149,
   "id": "16cd35d1",
   "metadata": {},
   "outputs": [
    {
     "data": {
      "text/plain": [
       "Initial(Apaf(b=None), Apaf_0)"
      ]
     },
     "execution_count": 149,
     "metadata": {},
     "output_type": "execute_result"
    }
   ],
   "source": [
    "## Example Initial Condition Initial(Species(), Parameter('param', 50)) from the base set of directions\n",
    "Initial(Trail(b=None), Parameter('Trail_0', 3e3))\n",
    "Initial(pR(b=None), Parameter('pR_0', 2e2))\n",
    "Initial(Flip(b=None), Parameter('Flip_0', 1e2))\n",
    "Initial(pC8(b=None), Parameter('pc8_0', 2e4))\n",
    "Initial(BAR(b=None), Parameter('BAR_0', 1e3))\n",
    "Initial(pC3(b=None), Parameter('pC3_0', 1e4))\n",
    "Initial(pC6(b=None), Parameter('pC6_0', 1e4))\n",
    "Initial(XIAP(b=None), Parameter('XIAP_0', 1e5))\n",
    "Initial(PARP(b=None), Parameter('PARP_0', 1e6))\n",
    "Initial(Bid(b=None), Parameter('Bid_0', 4e4))\n",
    "Initial(Bax(b=None), Parameter('Bax_0'), 1e5)\n",
    "Initial(Bcl2c(b=None), Parameter('Bcl2c_0', 2e4))\n",
    "Initial(Mito(b=None), Parameter('Mito_0', 5e5))\n",
    "Initial(mCytoC(b=None), Parameter('cCytoC_0', 5e5))\n",
    "Initial(mSmac(b=None), Parameter('mSmac_0', 1e5))\n",
    "Initial(pC9(b=None), Parameter('pC9_0', 1e5))\n",
    "Initial(Apaf(b=None), Parameter('Apaf_0', 1e5))"
   ]
  },
  {
   "cell_type": "markdown",
   "id": "4973bad7",
   "metadata": {},
   "source": [
    "Reaction Functions"
   ]
  },
  {
   "cell_type": "code",
   "execution_count": 150,
   "id": "c94affef",
   "metadata": {},
   "outputs": [],
   "source": [
    "## Reaction Functions\n",
    "## Catalyze\n",
    "def catalyze(Reactant1, Reactant2, Prod, kb, kf, kc):\n",
    "    \"\"\"2-step catalytic process\n",
    "    Rule looks like A + B <--> A % B -> A + D\"\"\"\n",
    "    r1_name = \"bind_%s_%s\" % (Reactant2.name, Reactant1.name)\n",
    "    r2_name = \"produce_%s_%s_from_%s_and_%s\" % (Prod.name, Reactant1.name, Reactant1.name, Reactant2.name)\n",
    "    E = Reactant1(b=None)\n",
    "    S = Reactant2(b=None)\n",
    "    ES = Reactant1(b=1) % Reactant2(b=1)\n",
    "    P = Prod(b=None)\n",
    "    Rule(r1_name, E + S | ES, kb, kf)\n",
    "    Rule(r2_name, ES >> E + P, kc)\n",
    "def inhibit_reversable(Reactant1, Reactant2, kb, kf):\n",
    "    \"\"\"1-step reversable process Rule looks like A--|B\"\"\"\n",
    "    r_name = \"inbiit_%s_%s\" % (Reactant2.name, Reactant1.name)\n",
    "    E = Reactant1(b=None)\n",
    "    S = Reactant2(b=None)\n",
    "    Rule(r_name, E(b=None) + S(b=None) | E(b=1)% S(b=1), kf, kb)\n",
    "def catalyze_two(Reactant1, Reactant2, Prod, kb, kf, kc):\n",
    "    \"\"\"2-step catalytic process\n",
    "    Rule looks like A + B <--> A %B -> C\"\"\"\n",
    "    r1_name = \"binds_%s_%s\" % (Reactant2.name, Reactant1.name)\n",
    "    r2_name = \"produces_%s\" % (Prod.name)\n",
    "    E = Reactant1(b=None)\n",
    "    S = Reactant2(b=None)\n",
    "    ES = Reactant1(b=1) % Reactant2(b=1)\n",
    "    P = Prod(b=None)\n",
    "    Rule(r1_name, E + S| ES, kb, kf)\n",
    "    Rule(r2_name, ES >> P, kc)\n",
    "def reversable(Reactant1, Reactant2, kb,  kf):\n",
    "    \"\"\"1-step reversable process Rule looks like A <--> B\"\"\"\n",
    "    r_name = \"%s_reversesto_%s\" % (Reactant1.name, Reactant2.name)\n",
    "    E = Reactant1(b=None)\n",
    "    S = Reactant2(b=None)\n",
    "    Rule(r_name, E | S, kb, kf)\n",
    "def rev_plus(Reactant1, Prod, kb, kf):\n",
    "    \"\"\"1-step add reversable Rule looks like A + A <--> B\"\"\"\n",
    "    r_name = \"%s_added_to_%s\" % (Reactant1.name, Reactant1.name)\n",
    "    E = Reactant1(b=None)\n",
    "    P = Prod(b=None)\n",
    "    Rule(r_name, E + E | P, kb, kf)\n",
    "def rev_plus_two(Reactant1, Reactant2, Prod, kb, kf):\n",
    "    \"\"\"1-step add reversable Rule looks like A + B <--> C\"\"\"\n",
    "    r_name = \"%s_binds_to_%s\" % (Reactant1.name, Reactant2.name)\n",
    "    E = Reactant1(b=None)\n",
    "    S = Reactant2(b=None)\n",
    "    P = Prod(b=None)\n",
    "    Rule(r_name, E + S | P, kb, kf)"
   ]
  },
  {
   "cell_type": "markdown",
   "id": "6298ed14",
   "metadata": {},
   "source": [
    "Reactions"
   ]
  },
  {
   "cell_type": "code",
   "execution_count": 151,
   "id": "691ff6e1",
   "metadata": {},
   "outputs": [
    {
     "name": "stdout",
     "output_type": "stream",
     "text": [
      "binds_pR_Trail\n",
      "produces_DISC\n",
      "inbiit_DISC_Flip\n",
      "bind_DISC_pC8\n",
      "produce_C8_pC8_from_pC8_and_DISC\n",
      "inbiit_BAR_C8\n",
      "bind_C8_pC3\n",
      "produce_C3_pC3_from_pC3_and_C8\n",
      "bind_C3_pC6\n",
      "produce_C6_pC6_from_pC6_and_C3\n",
      "bind_C6_pC8\n",
      "produce_C8_pC8_from_pC8_and_C6\n",
      "bind_C3_XIAP\n",
      "produce_C3_U_XIAP_from_XIAP_and_C3\n",
      "bind_C3_PARP\n",
      "produce_cPARP_PARP_from_PARP_and_C3\n",
      "bind_C8_Bid\n",
      "produce_tBid_Bid_from_Bid_and_C8\n",
      "inbiit_tBid_Bcl2c\n",
      "bind_tBid_Bax\n",
      "produce_aBax_Bax_from_Bax_and_tBid\n",
      "aBax_reversesto_mBax\n",
      "inbiit_mBax_Bcl2\n",
      "mBax_added_to_mBax\n",
      "inbiit_Bax4_Bcl2\n",
      "binds_Mito_Bax4\n",
      "produces_AMito\n",
      "bind_mCytoC_AMito\n",
      "produce_ACytoC_AMito_from_AMito_and_mCytoC\n",
      "bind_mSmac_AMito\n",
      "produce_ASmac_AMito_from_AMito_and_mSmac\n",
      "ACytoC_reversesto_cCytoC\n",
      "bind_cCytoC_Apaf\n",
      "produce_aApaf_Apaf_from_Apaf_and_cCytoC\n",
      "aApaf_binds_to_pC9\n",
      "bind_pC3_Apop\n",
      "produce_C3_Apop_from_Apop_and_pC3\n",
      "ASmac_reversesto_cSmac\n",
      "inbiit_Apop_XIAP\n",
      "inbiit_cSmac_XIAP\n"
     ]
    }
   ],
   "source": [
    "## Reactions\n",
    "catalyze_two(Trail, pR, DISC, kb1, kf1, kc1)\n",
    "inhibit_reversable(Flip, DISC, kb1, kf2)\n",
    "catalyze(pC8, DISC, C8, kb1, kf2, kc2)\n",
    "inhibit_reversable(C8, BAR, kb1, kf2)\n",
    "catalyze(pC3, C8, C3, kb1, kf3, kc2)\n",
    "catalyze(pC6, C3, C6, kb1, kf2, kc2)\n",
    "catalyze(pC8, C6, C8, kb1, kf4, kc2)\n",
    "catalyze(XIAP, C3, C3_U, kb1, kf5, kc3)\n",
    "catalyze(PARP, C3, cPARP, kb2, kf2, kc2)\n",
    "catalyze(Bid, C8, tBid, kb1, kf3, kc2)\n",
    "inhibit_reversable(Bcl2c, tBid, kb1, kf2)\n",
    "catalyze(Bax, tBid, aBax, kb1, kf3, kc2)\n",
    "reversable(aBax, mBax, kb2, kf2)\n",
    "inhibit_reversable(Bcl2, mBax, kb1, kf7)\n",
    "rev_plus(mBax, Bax2, kb1, kf8)\n",
    "inhibit_reversable(Bcl2, Bax4, kb1, kf7)\n",
    "catalyze_two(Bax4, Mito, AMito, kb1, kf7, kc2)\n",
    "catalyze(AMito, mCytoC, ACytoC, kb1, kf8, kc4)\n",
    "catalyze(AMito, mSmac, ASmac, kb1, kf8, kc4)\n",
    "reversable(ACytoC, cCytoC, kb2, kf6)\n",
    "catalyze(Apaf, cCytoC, aApaf, kb1, kf9, kc2)\n",
    "rev_plus_two(aApaf, pC9, Apop, kb1, kf10)\n",
    "catalyze(Apop, pC3, C3, kb1, kf11, kc2)\n",
    "reversable(ASmac, cSmac, kb2, kf6)\n",
    "inhibit_reversable(XIAP, Apop, kb1, kf5)\n",
    "inhibit_reversable(XIAP, cSmac, kb1, kf12)"
   ]
  },
  {
   "cell_type": "markdown",
   "id": "b0e27660",
   "metadata": {},
   "source": [
    "Simulating the Model"
   ]
  },
  {
   "cell_type": "code",
   "execution_count": 152,
   "id": "fb243ada",
   "metadata": {},
   "outputs": [],
   "source": [
    "##Scipy Ode Simulator\n",
    "from pysb.simulator import ScipyOdeSimulator\n",
    "from pylab import *"
   ]
  },
  {
   "cell_type": "code",
   "execution_count": 153,
   "id": "dd093fd9",
   "metadata": {},
   "outputs": [],
   "source": [
    "time = linspace(0,20*60*60,20*60)\n",
    "sim = ScipyOdeSimulator(model, tspan=time).run()\n",
    "simResults = sim.all"
   ]
  },
  {
   "cell_type": "markdown",
   "id": "5bb441a5",
   "metadata": {},
   "source": [
    "Plot the Simulation Results"
   ]
  },
  {
   "cell_type": "code",
   "execution_count": 154,
   "id": "cdc2c910",
   "metadata": {},
   "outputs": [
    {
     "data": {
      "image/png": "[encoded data removed]",
      "text/plain": [
       "<Figure size 1008x576 with 1 Axes>"
      ]
     },
     "metadata": {
      "needs_background": "light"
     },
     "output_type": "display_data"
    }
   ],
   "source": [
    "%matplotlib inline\n",
    "import matplotlib.pyplot as plt\n",
    "\n",
    "plt.figure(figsize=(14, 8))\n",
    "\n",
    "##Plotting Capsase 3 Quantity\n",
    "\n",
    "plt.plot(time, simResults['capsase_3'])\n",
    "\n",
    "plt.xlabel(\"Timeline of Extrinsic Apoptosis Reaction Model\")\n",
    "plt.ylabel(\"Molecule Quantity\")\n",
    "plt.show()"
   ]
  }
 ],
 "metadata": {
  "kernelspec": {
   "display_name": "Python 3 (ipykernel)",
   "language": "python",
   "name": "python3"
  },
  "language_info": {
   "codemirror_mode": {
    "name": "ipython",
    "version": 3
   },
   "file_extension": ".py",
   "mimetype": "text/x-python",
   "name": "python",
   "nbconvert_exporter": "python",
   "pygments_lexer": "ipython3",
   "version": "3.9.5"
  }
 },
 "nbformat": 4,
 "nbformat_minor": 5
}
